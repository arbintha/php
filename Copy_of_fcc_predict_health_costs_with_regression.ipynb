{
  "cells": [
    {
      "cell_type": "markdown",
      "metadata": {
        "id": "view-in-github",
        "colab_type": "text"
      },
      "source": [
        "<a href=\"https://colab.research.google.com/github/arbintha/php/blob/master/Copy_of_fcc_predict_health_costs_with_regression.ipynb\" target=\"_parent\"><img src=\"https://colab.research.google.com/assets/colab-badge.svg\" alt=\"Open In Colab\"/></a>"
      ]
    },
    {
      "cell_type": "code",
      "execution_count": null,
      "metadata": {
        "id": "1rRo8oNqZ-Rj"
      },
      "outputs": [],
      "source": [
        "# Import libraries. You may or may not use all of these.\n",
        "!pip install -q git+https://github.com/tensorflow/docs\n",
        "import matplotlib.pyplot as plt\n",
        "import numpy as np\n",
        "import pandas as pd\n",
        "\n",
        "try:\n",
        "  # %tensorflow_version only exists in Colab.\n",
        "  %tensorflow_version 2.x\n",
        "except Exception:\n",
        "  pass\n",
        "import tensorflow as tf\n",
        "\n",
        "from tensorflow import keras\n",
        "from tensorflow.keras import layers\n",
        "\n",
        "import tensorflow_docs as tfdocs\n",
        "import tensorflow_docs.plots\n",
        "import tensorflow_docs.modeling"
      ]
    },
    {
      "cell_type": "markdown",
      "source": [
        "# New Section"
      ],
      "metadata": {
        "id": "K9u4IH_M1WQM"
      }
    },
    {
      "cell_type": "markdown",
      "source": [
        "# New Section"
      ],
      "metadata": {
        "id": "vd65QjXJ1WxL"
      }
    },
    {
      "cell_type": "code",
      "execution_count": null,
      "metadata": {
        "id": "CiX2FI4gZtTt"
      },
      "outputs": [],
      "source": [
        "# Import data\n",
        "!wget https://cdn.freecodecamp.org/project-data/health-costs/insurance.csv\n",
        "dataset = pd.read_csv('insurance.csv')\n",
        "dataset.tail()\n",
        "\n",
        "# no of neurons =6\n",
        "X = pd.DataFrame(dataset.iloc[:, 0:6].values)\n",
        "y = dataset.iloc[:, 6].values\n",
        "\n",
        "\n",
        "from sklearn.preprocessing import LabelEncoder\n",
        "labelencoder_X_1 = LabelEncoder()\n",
        "''''encoding sex to num'''\n",
        "X.loc[:, 1] = labelencoder_X_1.fit_transform(X.iloc[:, 1])\n",
        "\n",
        "''''transforming smoker '''\n",
        "labelencoder_X_2 = LabelEncoder()\n",
        "X.loc[:, 4] = labelencoder_X_2.fit_transform(X.iloc[:, 4])\n",
        "\n",
        "''''transforming region'''\n",
        "labelencoder_X_3 = LabelEncoder()\n",
        "X.loc[:, 5] = labelencoder_X_3.fit_transform(X.iloc[:, 5])\n",
        "\n",
        "\n",
        "#train test..... 80% train data\n",
        "from sklearn.model_selection import train_test_split\n",
        "X_train, X_test, y_train, y_test = train_test_split(X, y, test_size = 0.2, random_state = 0)\n",
        "\n",
        "#feature scaling\n",
        "from sklearn.preprocessing import StandardScaler\n",
        "sc = StandardScaler()\n",
        "X_train = sc.fit_transform(X_train)\n",
        "X_test = sc.transform(X_test)\n",
        "\n",
        "\n",
        "#Initialising ANN\n",
        "model = tf.keras.models.Sequential()\n",
        "#Adding First Hidden Layer.....6 input neurons ,\n",
        "model.add(tf.keras.layers.Dense(units=6,activation=\"relu\",input_dim = 6))\n",
        "#Adding Second Hidden Layer\n",
        "model.add(tf.keras.layers.Dense(units=6,activation=\"relu\"))\n",
        "#Adding Output Layer......1 neuron\n",
        "model.add(tf.keras.layers.Dense(units=1,activation=\"sigmoid\"))\n",
        "\n",
        "#Compiling ANN\n",
        "model.compile(optimizer=\"adam\",loss=\"binary_crossentropy\",metrics=['accuracy'])\n",
        "\n",
        "#Fitting ANN\n",
        "model.fit(X_train,y_train,batch_size=32,epochs = 100)\n",
        "\n",
        "#Predicting result for Single Observation /10 parameters\n",
        "print(model.predict(sc.transform([[30, 1, 30.5, 1, 1, 2]])) > 0.5)\n",
        "\n",
        "\n",
        "#Saving created neural network\n",
        "model.save(\"ANN.h5\")\n",
        "\n",
        "\n",
        "score = model.evaluate(X_test, y_test, verbose = 0)\n",
        "\n",
        "print('Test loss:', score[0])\n",
        "print('Test accuracy:', score[1])\n"
      ]
    },
    {
      "cell_type": "code",
      "execution_count": null,
      "metadata": {
        "id": "LcopvQh3X-kX"
      },
      "outputs": [],
      "source": []
    },
    {
      "cell_type": "code",
      "execution_count": null,
      "metadata": {
        "id": "Xe7RXH3N3CWU"
      },
      "outputs": [],
      "source": [
        "# RUN THIS CELL TO TEST YOUR MODEL. DO NOT MODIFY CONTENTS.\n",
        "# Test model by checking how well the model generalizes using the test set.\n",
        "loss, mae, mse = model.evaluate(X_test, y_test, verbose=2)\n",
        "\n",
        "print(\"Testing set Mean Abs Error: {:5.2f} expenses\".format(mae))\n",
        "\n",
        "if mae < 3500:\n",
        "  print(\"You passed the challenge. Great job!\")\n",
        "else:\n",
        "  print(\"The Mean Abs Error must be less than 3500. Keep trying.\")\n",
        "\n",
        "# Plot predictions.\n",
        "test_predictions = model.predict(X_test).flatten()\n",
        "\n",
        "a = plt.axes(aspect='equal')\n",
        "plt.scatter(y_test, test_predictions)\n",
        "plt.xlabel('True values (expenses)')\n",
        "plt.ylabel('Predictions (expenses)')\n",
        "lims = [0, 50000]\n",
        "plt.xlim(lims)\n",
        "plt.ylim(lims)\n",
        "print(plt.plot(lims,lims))\n"
      ]
    }
  ],
  "metadata": {
    "colab": {
      "private_outputs": true,
      "provenance": [],
      "toc_visible": true,
      "include_colab_link": true
    },
    "kernelspec": {
      "display_name": "Python 3",
      "name": "python3"
    }
  },
  "nbformat": 4,
  "nbformat_minor": 0
}